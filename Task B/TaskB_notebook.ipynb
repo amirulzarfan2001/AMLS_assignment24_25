{
 "cells": [
  {
   "cell_type": "code",
   "execution_count": 14,
   "metadata": {},
   "outputs": [
    {
     "name": "stdout",
     "output_type": "stream",
     "text": [
      "Folder 'Alex/name' created successfully!\n"
     ]
    }
   ],
   "source": [
    "import os\n",
    "\n",
    "# Specify the folder name\n",
    "folder_name = \"Alex/name\"\n",
    "\n",
    "# Create the folder\n",
    "try:\n",
    "    os.makedirs(folder_name, exist_ok=True)\n",
    "    print(f\"Folder '{folder_name}' created successfully!\")\n",
    "except Exception as e:\n",
    "    print(f\"An error occurred while creating the folder: {e}\")\n",
    "\n",
    "import shutil\n"
   ]
  },
  {
   "cell_type": "code",
   "execution_count": 15,
   "metadata": {},
   "outputs": [
    {
     "name": "stdout",
     "output_type": "stream",
     "text": [
      "An error occurred: [WinError 5] Access is denied: 'Alex/name'\n"
     ]
    }
   ],
   "source": [
    "\n",
    "# Specify the folder to delete\n",
    "folder_name = \"Alex/name\"\n",
    "\n",
    "# Delete the folder and its contents\n",
    "try:\n",
    "    shutil.rmtree(folder_name)  # Removes the folder and all its contents\n",
    "    print(f\"Folder '{folder_name}' and its contents deleted successfully!\")\n",
    "except FileNotFoundError:\n",
    "    print(f\"Folder '{folder_name}' does not exist.\")\n",
    "except Exception as e:\n",
    "    print(f\"An error occurred: {e}\")\n",
    "import os\n"
   ]
  },
  {
   "cell_type": "code",
   "execution_count": 13,
   "metadata": {},
   "outputs": [
    {
     "name": "stdout",
     "output_type": "stream",
     "text": [
      "Folder 'Alex/name' is not empty. Cannot delete it using os.rmdir.\n"
     ]
    }
   ],
   "source": [
    "\n",
    "# Specify the folder to delete\n",
    "folder_name = \"Alex/name\"\n",
    "\n",
    "# Delete the folder\n",
    "try:\n",
    "    os.rmdir(folder_name)  # Removes only empty folders\n",
    "    print(f\"Folder '{folder_name}' deleted successfully!\")\n",
    "except FileNotFoundError:\n",
    "    print(f\"Folder '{folder_name}' does not exist.\")\n",
    "except OSError:\n",
    "    print(f\"Folder '{folder_name}' is not empty. Cannot delete it using os.rmdir.\")\n",
    "except Exception as e:\n",
    "    print(f\"An error occurred: {e}\")"
   ]
  }
 ],
 "metadata": {
  "kernelspec": {
   "display_name": "MLS_CW",
   "language": "python",
   "name": "python3"
  },
  "language_info": {
   "codemirror_mode": {
    "name": "ipython",
    "version": 3
   },
   "file_extension": ".py",
   "mimetype": "text/x-python",
   "name": "python",
   "nbconvert_exporter": "python",
   "pygments_lexer": "ipython3",
   "version": "3.10.15"
  }
 },
 "nbformat": 4,
 "nbformat_minor": 2
}
